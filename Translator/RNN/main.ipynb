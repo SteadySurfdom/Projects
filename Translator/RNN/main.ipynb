{
 "cells": [
  {
   "cell_type": "code",
   "execution_count": 4,
   "metadata": {},
   "outputs": [],
   "source": [
    "import numpy as np\n",
    "import tensorflow as tf\n",
    "import pandas as pd\n",
    "import matplotlib.pyplot as plt\n",
    "import re\n",
    "from string import punctuation,digits,ascii_letters\n",
    "import pickle\n",
    "from tensorflow.keras.utils import plot_model"
   ]
  },
  {
   "cell_type": "code",
   "execution_count": 5,
   "metadata": {},
   "outputs": [],
   "source": [
    "dataset = pd.read_csv('../Dataset_English_Hindi.csv')\n",
    "dataset = dataset.sample(frac=1)\n",
    "dataset = dataset.reset_index(drop=True).dropna()\n",
    "dataset['Hindi'] = dataset['Hindi'].apply(lambda x: x.lower().strip())\n",
    "dataset['English'] = dataset['English'].apply(lambda x: x.lower().strip())\n",
    "# Strip punctuation\n",
    "exclude_chars_hindi = set(punctuation+digits+ascii_letters+'[२३०८१५७९४६]')\n",
    "exclude_chars_english = set(punctuation+digits)\n",
    "dataset['Hindi'] = dataset['Hindi'].apply(lambda x: ''.join([ch for ch in x if ch not in exclude_chars_hindi]))\n",
    "dataset['English'] = dataset['English'].apply(lambda x: ''.join([ch for ch in x if ch not in exclude_chars_english]))\n",
    "dataset['len_english'] = dataset['English'].apply(lambda x: len(list(x)))\n",
    "dataset['len_hindi'] = dataset['Hindi'].apply(lambda x: len(list(x)))\n",
    "indexes = dataset[ ( dataset['len_english']>64 ) | ( dataset['len_hindi']>64 ) ].index\n",
    "dataset.drop(indexes,inplace=True)\n",
    "dataset['Hindi'] = dataset['Hindi'].apply(lambda x: 'START__ ' + x + ' __END')"
   ]
  },
  {
   "cell_type": "code",
   "execution_count": 6,
   "metadata": {},
   "outputs": [],
   "source": [
    "dataset['English'] = dataset['English'].apply(lambda x: ''.join([ch for ch in x if ch!='\"']))"
   ]
  },
  {
   "cell_type": "code",
   "execution_count": 7,
   "metadata": {},
   "outputs": [],
   "source": [
    "# Making the vocabularies\n",
    "english_vocab_dict = dict()\n",
    "hindi_vocab_dict = dict()\n",
    "english_vocab_dict['[UNK]'] = 0\n",
    "hindi_vocab_dict['[UNK]'] = 0\n",
    "\n",
    "for sentence in dataset['English']:\n",
    "    for word in re.split('\\s+',sentence):\n",
    "        if(word not in english_vocab_dict.keys()):\n",
    "            english_vocab_dict[word] = 1\n",
    "        else:\n",
    "            english_vocab_dict[word]+=1\n",
    "\n",
    "for sentence in dataset['Hindi']:\n",
    "    for word in re.split('\\s+',sentence):\n",
    "        if(word not in hindi_vocab_dict.keys()):\n",
    "            hindi_vocab_dict[word] = 1\n",
    "        else:\n",
    "            hindi_vocab_dict[word]+=1\n",
    "\n",
    "english_vocab_dict = {word:freq for word,freq in sorted(english_vocab_dict.items(),key=lambda pair: pair[1],reverse=True)}\n",
    "hindi_vocab_dict = {word:freq for word,freq in sorted(hindi_vocab_dict.items(),key=lambda pair: pair[1],reverse=True)}\n",
    "\n",
    "# for word,freq in english_vocab_dict.copy().items():\n",
    "#     if(freq<2 and word != '[UNK]'):\n",
    "#         english_vocab_dict.pop(word)\n",
    "#         english_vocab_dict['[UNK]']+=1\n",
    "\n",
    "# for word,freq in hindi_vocab_dict.copy().items():\n",
    "#     if(freq<2 and word != '[UNK]'):\n",
    "#         hindi_vocab_dict.pop(word)\n",
    "#         hindi_vocab_dict['[UNK]']+=1\n",
    "\n",
    "english_vocab_keys = list(english_vocab_dict.keys())\n",
    "hindi_vocab_keys = list(hindi_vocab_dict.keys())"
   ]
  },
  {
   "cell_type": "code",
   "execution_count": 8,
   "metadata": {},
   "outputs": [
    {
     "data": {
      "text/plain": [
       "63365"
      ]
     },
     "execution_count": 8,
     "metadata": {},
     "output_type": "execute_result"
    }
   ],
   "source": [
    "len(dataset)"
   ]
  },
  {
   "cell_type": "code",
   "execution_count": 9,
   "metadata": {},
   "outputs": [],
   "source": [
    "e_wtoi = dict([(word,i+1) for i,word in enumerate(english_vocab_dict)])\n",
    "h_wtoi = dict([(word,i+1) for i,word in enumerate(hindi_vocab_dict)])\n",
    "\n",
    "e_itow = dict([(i+1,word) for i,word in enumerate(english_vocab_dict)])\n",
    "h_itow = dict([(i+1,word) for i,word in enumerate(hindi_vocab_dict)])"
   ]
  },
  {
   "cell_type": "code",
   "execution_count": 10,
   "metadata": {},
   "outputs": [],
   "source": [
    "def mapToVocab(vector,lang):\n",
    "    vector = tf.squeeze(vector)\n",
    "    if lang == 'english':\n",
    "        vocab = e_itow\n",
    "    else:\n",
    "        vocab = h_itow\n",
    "    translation = \"\"\n",
    "    for i in vector.numpy():\n",
    "        if(i == 0):\n",
    "            break\n",
    "        translation+= ' '+vocab[i]\n",
    "    return translation"
   ]
  },
  {
   "cell_type": "code",
   "execution_count": 11,
   "metadata": {},
   "outputs": [],
   "source": [
    "def make_dataset(dataset, english_vocab, hindi_vocab, batch_size, len_tokens):\n",
    "    dataset = dataset[:int(len(dataset)/batch_size)*batch_size]\n",
    "    english_dataset = dataset['English']\n",
    "    hindi_dataset = dataset['Hindi']\n",
    "    encoder_input = np.zeros(shape=(1,len_tokens))\n",
    "    decoder_input = np.zeros(shape=(1,len_tokens))\n",
    "    decoder_output = np.zeros(shape=(1,len_tokens))\n",
    "    for i,(eng_sentence,hin_sentence) in enumerate(zip(english_dataset,hindi_dataset)):\n",
    "        encoder_input_iter = np.zeros(shape=(1,len_tokens))\n",
    "        decoder_input_iter = np.zeros(shape=(1,len_tokens))\n",
    "        decoder_output_iter = np.zeros(shape=(1,len_tokens))\n",
    "        for j,word in enumerate(re.split('\\s+',eng_sentence)):\n",
    "            try:\n",
    "                encoder_input_iter[0 , j] = english_vocab[word]\n",
    "            except:\n",
    "                encoder_input_iter[0 , j] = english_vocab[\"[UNK]\"]\n",
    "        for j,word in enumerate(re.split('\\s+',hin_sentence)):\n",
    "            try:\n",
    "                decoder_input_iter[0 , j] = hindi_vocab[word] if word != '__END' else 0\n",
    "            except:\n",
    "                decoder_input_iter[0 , j] = hindi_vocab[\"[UNK]\"]\n",
    "        for j,word in enumerate(re.split('\\s+',hin_sentence)):\n",
    "            if(j==0):\n",
    "                continue\n",
    "            try:\n",
    "                decoder_output_iter[0 , j-1] = hindi_vocab[word]\n",
    "            except:\n",
    "                decoder_output_iter[0 , j-1] = hindi_vocab[\"[UNK]\"]\n",
    "        encoder_input = np.vstack((encoder_input,encoder_input_iter))\n",
    "        decoder_input = np.vstack((decoder_input,decoder_input_iter))\n",
    "        decoder_output = np.vstack((decoder_output,decoder_output_iter))\n",
    "        print(f\"{i+1}/{len(english_dataset)}\",end='\\r')\n",
    "    # encoder_input = encoder_input[1:].reshape((-1,batch_size,len_tokens))\n",
    "    # decoder_output = decoder_output[1:].reshape((-1,batch_size,len_tokens))\n",
    "    # decoder_input = decoder_input[1:].reshape((-1,batch_size,len_tokens))\n",
    "    return encoder_input[1:],decoder_input[1:],decoder_output[1:]"
   ]
  },
  {
   "cell_type": "code",
   "execution_count": 12,
   "metadata": {},
   "outputs": [],
   "source": [
    "with open('../dataset_vec.pickle','rb') as f:\n",
    "    data_vectorised = pickle.load(f)"
   ]
  },
  {
   "cell_type": "code",
   "execution_count": 13,
   "metadata": {},
   "outputs": [],
   "source": [
    "# The encoder for training\n",
    "encoder_input = tf.keras.layers.Input(shape=(64,))\n",
    "encoder_emb = tf.keras.layers.Embedding(input_dim=len(english_vocab_keys),output_dim=300,mask_zero=True,name='encoder_emb')(encoder_input)\n",
    "_,state_h,state_c = tf.keras.layers.LSTM(units=300,return_state=True,name='encoder_LSTM')(encoder_emb)\n",
    "encoder_states = [state_h,state_c]\n",
    "\n",
    "# The decoder for training\n",
    "decoder_input = tf.keras.layers.Input(shape=(64,))\n",
    "decoder_emb = tf.keras.layers.Embedding(input_dim=len(hindi_vocab_keys),output_dim=300,mask_zero=True,name='decoder_emb')(decoder_input)\n",
    "dec_lstm,_,_ = tf.keras.layers.LSTM(units=300,return_state=True,return_sequences=True,name='decoder_LSTM')(decoder_emb,initial_state=encoder_states)\n",
    "dec_dense = tf.keras.layers.Dense(units=len(hindi_vocab_keys),activation='softmax',name='output_dense')(dec_lstm)\n",
    "\n",
    "training_model = tf.keras.Model(inputs=[encoder_input,decoder_input],outputs=[dec_dense])"
   ]
  },
  {
   "cell_type": "code",
   "execution_count": 14,
   "metadata": {},
   "outputs": [],
   "source": [
    "# training_model.compile(optimizer='adam',loss='sparse_categorical_crossentropy',metrics='accuracy')\n",
    "# history = training_model.fit(x=[encoder_inputs,decoder_inputs],y=decoder_labels,batch_size=32,epochs=1)"
   ]
  },
  {
   "cell_type": "code",
   "execution_count": 15,
   "metadata": {},
   "outputs": [],
   "source": [
    "training_model.load_weights('TrainingModelWeights10Epochs.h5')"
   ]
  },
  {
   "cell_type": "code",
   "execution_count": 16,
   "metadata": {},
   "outputs": [
    {
     "data": {
      "image/png": "[encoded data removed]",
      "text/plain": [
       "<IPython.core.display.Image object>"
      ]
     },
     "execution_count": 16,
     "metadata": {},
     "output_type": "execute_result"
    }
   ],
   "source": [
    "plot_model(training_model,show_shapes=True)"
   ]
  },
  {
   "cell_type": "code",
   "execution_count": 17,
   "metadata": {},
   "outputs": [
    {
     "data": {
      "image/png": "[encoded data removed]",
      "text/plain": [
       "<IPython.core.display.Image object>"
      ]
     },
     "execution_count": 17,
     "metadata": {},
     "output_type": "execute_result"
    }
   ],
   "source": [
    "inp = tf.keras.layers.Input(shape=(300,))\n",
    "dense = tf.keras.layers.Dense(units=300)(inp)\n",
    "m = tf.keras.Model(inputs=inp,outputs=dense)\n",
    "plot_model(m,show_shapes=True)"
   ]
  },
  {
   "cell_type": "code",
   "execution_count": 18,
   "metadata": {},
   "outputs": [],
   "source": [
    "encoder_model = tf.keras.Model(inputs=encoder_input,outputs=[encoder_states])\n",
    "\n",
    "decoder_input_2 = tf.keras.layers.Input(shape=(None,))\n",
    "decoder_hidden_state = tf.keras.layers.Input(shape=(300,))\n",
    "decoder_cell_state = tf.keras.layers.Input(shape=(300,))\n",
    "\n",
    "decoder_input_states = [decoder_hidden_state,decoder_cell_state]\n",
    "\n",
    "emb_layer = training_model.get_layer('decoder_emb')\n",
    "embeddings = emb_layer(decoder_input_2)\n",
    "\n",
    "dec_lstm = training_model.get_layer('decoder_LSTM')\n",
    "lstm_output,hidden_state,cell_state = dec_lstm(embeddings,initial_state=[decoder_hidden_state, decoder_cell_state])\n",
    "output_states = [hidden_state,cell_state]\n",
    "\n",
    "dec_dense = training_model.get_layer('output_dense')\n",
    "dense_outputs = dec_dense(lstm_output)\n",
    "\n",
    "decoder_model = tf.keras.Model(inputs=[decoder_input_2, decoder_input_states],outputs=[dense_outputs,output_states])"
   ]
  },
  {
   "cell_type": "code",
   "execution_count": 19,
   "metadata": {},
   "outputs": [
    {
     "name": "stdout",
     "output_type": "stream",
     "text": [
      "1/1 [==============================] - 2s 2s/step\n",
      "1/1 [==============================] - 2s 2s/step\n",
      "1/1 [==============================] - 1s 651ms/step\n",
      "1/1 [==============================] - 0s 20ms/step\n",
      "1/1 [==============================] - 0s 18ms/step\n"
     ]
    },
    {
     "data": {
      "text/plain": [
       "'तुम कैसे हो'"
      ]
     },
     "execution_count": 19,
     "metadata": {},
     "output_type": "execute_result"
    }
   ],
   "source": [
    "def translate(english_sentence):\n",
    "    english_sentence = english_sentence.lower()\n",
    "    translation = ''\n",
    "    sentence_vector = np.zeros(shape=(64,))\n",
    "    for j,word in enumerate(re.split('\\s+',english_sentence)):\n",
    "        try:\n",
    "            sentence_vector[j] = e_wtoi[word]\n",
    "        except:\n",
    "            sentence_vector[j] = e_wtoi['[UNK]']\n",
    "    sentence_vector = sentence_vector.reshape((1,64))\n",
    "    \n",
    "    states = encoder_model.predict(sentence_vector)\n",
    "    sampled_hindi = np.zeros((1,1))\n",
    "    sampled_hindi[0 , 0] = h_wtoi['START__']\n",
    "    stop = False\n",
    "    i = 0\n",
    "    while not stop:\n",
    "        i+=1\n",
    "        new_word, output_states = decoder_model.predict([sampled_hindi,states])\n",
    "        word = np.argmax(new_word,axis=-1)\n",
    "        word = np.squeeze(word)\n",
    "        word = word.item()\n",
    "        translation += h_itow[word] + ' '\n",
    "        if (h_itow[word] == '__END' or i>=64):\n",
    "            stop = True\n",
    "        sampled_hindi[0 , 0] =  word\n",
    "        states = output_states\n",
    "\n",
    "    translation = ' '.join(translation.strip().split(' ')[:-1])\n",
    "    return translation\n",
    "translate('how are you doing')"
   ]
  }
 ],
 "metadata": {
  "kernelspec": {
   "display_name": "Python 3",
   "language": "python",
   "name": "python3"
  },
  "language_info": {
   "codemirror_mode": {
    "name": "ipython",
    "version": 3
   },
   "file_extension": ".py",
   "mimetype": "text/x-python",
   "name": "python",
   "nbconvert_exporter": "python",
   "pygments_lexer": "ipython3",
   "version": "3.10.5"
  },
  "orig_nbformat": 4
 },
 "nbformat": 4,
 "nbformat_minor": 2
}
